{
  "cells": [
    {
      "cell_type": "code",
      "execution_count": 1,
      "id": "3f7e7d63-2adf-416f-9596-90dd59237232",
      "metadata": {},
      "outputs": [],
      "source": [
        "# from transformers import BertModel\n",
        "# from safetensors.torch import load_file\n",
        "\n",
        "# # # Path ke folder model\n",
        "# # model_dir = \"./Reproduced_CountGD/checkpoints/bert-base-uncased\"\n",
        "\n",
        "# # # Load dari safetensors\n",
        "# # state_dict = load_file(f\"{model_dir}/model.safetensors\")\n",
        "\n",
        "# # # Load model dengan state_dict\n",
        "# # model = BertModel.from_pretrained(model_dir, state_dict=state_dict, from_tf=False)\n",
        "\n",
        "# # # Simpan sebagai pytorch_model.bin\n",
        "# # model.save_pretrained(model_dir)\n",
        "# # print(\"Konversi selesai! File pytorch_model.bin telah dibuat.\")\n",
        "# from transformers import BertModel\n",
        "\n",
        "# BertModel.from_pretrained(\"bert-base-uncased\").save_pretrained(\"/home/renaldy_fredyan/PhDResearch/CountGD/Reproduced_CountGD/checkpoints/bert-base-uncased\")\n"
      ]
    },
    {
      "cell_type": "code",
      "execution_count": 2,
      "id": "f48a5d84-6c82-4c82-a81e-15d6ea62175e",
      "metadata": {},
      "outputs": [
        {
          "name": "stdout",
          "output_type": "stream",
          "text": [
            "{\n",
            "    \"0\": \"ant\",\n",
            "    \"1\": \"bird\",\n",
            "    \"2\": \"book\",\n",
            "    \"3\": \"bottle cap\",\n",
            "    \"4\": \"bullet\",\n",
            "    \"5\": \"camel\",\n",
            "    \"6\": \"chair\",\n",
            "    \"7\": \"chicken wing\",\n",
            "    \"8\": \"donut\",\n",
            "    \"9\": \"donut holder\",\n",
            "    \"10\": \"flamingo\",\n",
            "    \"11\": \"flower\",\n",
            "    \"12\": \"flower pot\",\n",
            "    \"13\": \"grape\",\n",
            "    \"14\": \"horse\",\n",
            "    \"15\": \"kiwi\",\n",
            "    \"16\": \"milk carton\",\n",
            "    \"17\": \"oyster\",\n",
            "    \"18\": \"oyster shell\",\n",
            "    \"19\": \"package of fresh cut fruit\",\n",
            "    \"20\": \"peach\",\n",
            "    \"21\": \"pill\",\n",
            "    \"22\": \"polka dot\",\n",
            "    \"23\": \"prawn cracker\",\n",
            "    \"24\": \"sausage\",\n",
            "    \"25\": \"seagull\",\n",
            "    \"26\": \"shallot\",\n",
            "    \"27\": \"shirt\",\n",
            "    \"28\": \"skateboard\",\n",
            "    \"29\": \"toilet paper roll\"\n",
            "}"
          ]
        }
      ],
      "source": [
        "!head -n 100 /home/renaldy_fredyan/PhDResearch/CountGD/Reproduced_CountGD/data/fsc147_gdino/fsc147_odvg/val_label_map.json\n"
      ]
    },
    {
      "cell_type": "code",
      "execution_count": 3,
      "id": "dfae3413-1b3f-4c27-9205-9182868073c9",
      "metadata": {},
      "outputs": [
        {
          "name": "stdout",
          "output_type": "stream",
          "text": [
            "{'filename': '7.jpg', 'height': 384, 'width': 384, 'detection': {'instances': [{'bbox': [32.744, 295.72639999999996, 34.744, 297.72639999999996], 'label': 69, 'category': 'pepper'}, {'bbox': [22.856, 255.58399999999995, 24.856, 257.58399999999995], 'label': 69, 'category': 'pepper'}, {'bbox': [30.185599999999997, 220.2656, 32.185599999999994, 222.2656], 'label': 69, 'category': 'pepper'}, {'bbox': [44.2064, 178.7216, 46.2064, 180.7216], 'label': 69, 'category': 'pepper'}, {'bbox': [66.60799999999999, 147.3056, 68.60799999999999, 149.3056], 'label': 69, 'category': 'pepper'}, {'bbox': [98.6672, 123.39199999999998, 100.6672, 125.39199999999998], 'label': 69, 'category': 'pepper'}, {'bbox': [140.672, 114.1424, 142.672, 116.1424], 'label': 69, 'category': 'pepper'}, {'bbox': [190.7696, 117.344, 192.7696, 119.344], 'label': 69, 'category': 'pepper'}, {'bbox': [258.25759999999997, 124.61599999999999, 260.25759999999997, 126.61599999999999], 'label': 69, 'category': 'pepper'}, {'bbox': [302.5328, 160.976, 304.5328, 162.976], 'label': 69, 'category': 'pepper'}, {'bbox': [321.152, 205.1984, 323.152, 207.1984], 'label': 69, 'category': 'pepper'}, {'bbox': [326.96959999999996, 258.7232, 328.96959999999996, 260.7232], 'label': 69, 'category': 'pepper'}, {'bbox': [326.96959999999996, 312.2528, 328.96959999999996, 314.2528], 'label': 69, 'category': 'pepper'}]}, 'exemplars': [[123, 97, 159, 135], [301, 194, 333, 221], [229, 99, 273, 145]]}\n",
            "{'filename': '9.jpg', 'height': 384, 'width': 512, 'detection': {'instances': [{'bbox': [33.988800000000005, 150.0336, 35.988800000000005, 152.0336], 'label': 12, 'category': 'bread roll'}, {'bbox': [107.0704, 65.88, 109.0704, 67.88], 'label': 12, 'category': 'bread roll'}, {'bbox': [230.6416, 60.120000000000005, 232.6416, 62.120000000000005], 'label': 12, 'category': 'bread roll'}, {'bbox': [221.78400000000002, 155.3456, 223.78400000000002, 157.3456], 'label': 12, 'category': 'bread roll'}, {'bbox': [106.6288, 240.38240000000002, 108.6288, 242.38240000000002], 'label': 12, 'category': 'bread roll'}, {'bbox': [235.512, 254.1168, 237.512, 256.1168], 'label': 12, 'category': 'bread roll'}, {'bbox': [363.0704, 189.0096, 365.0704, 191.0096], 'label': 12, 'category': 'bread roll'}, {'bbox': [371.92800000000005, 100.8688, 373.92800000000005, 102.8688], 'label': 12, 'category': 'bread roll'}]}, 'exemplars': [[145, 108, 288, 202], [5, 188, 165, 328], [297, 136, 450, 269]]}\n",
            "{'filename': '19.jpg', 'height': 384, 'width': 512, 'detection': {'instances': [{'bbox': [186.34720000000002, 116.93280000000001, 188.34720000000002, 118.93280000000001], 'label': 12, 'category': 'bread roll'}, {'bbox': [264.888, 112.8624, 266.888, 114.8624], 'label': 12, 'category': 'bread roll'}, {'bbox': [360.88800000000003, 121.59200000000001, 362.88800000000003, 123.59200000000001], 'label': 12, 'category': 'bread roll'}, {'bbox': [323.6528, 188.49759999999998, 325.6528, 190.49759999999998], 'label': 12, 'category': 'bread roll'}, {'bbox': [235.8, 186.168, 237.8, 188.168], 'label': 12, 'category': 'bread roll'}, {'bbox': [156.088, 187.3328, 158.088, 189.3328], 'label': 12, 'category': 'bread roll'}, {'bbox': [188.6704, 266.4624, 190.6704, 268.4624], 'label': 12, 'category': 'bread roll'}, {'bbox': [280.6, 265.88, 282.6, 267.88], 'label': 12, 'category': 'bread roll'}, {'bbox': [383.0, 265.2976, 385.0, 267.2976], 'label': 12, 'category': 'bread roll'}]}, 'exemplars': [[275, 155, 356, 236], [146, 78, 224, 157], [154, 235, 234, 304]]}\n",
            "{'filename': '20.jpg', 'height': 384, 'width': 512, 'detection': {'instances': [{'bbox': [222.12959999999998, 227.65279999999998, 224.12959999999998, 229.65279999999998], 'label': 12, 'category': 'bread roll'}, {'bbox': [268.088, 204.9648, 270.088, 206.9648], 'label': 12, 'category': 'bread roll'}, {'bbox': [332.67040000000003, 214.8528, 334.67040000000003, 216.8528], 'label': 12, 'category': 'bread roll'}, {'bbox': [282.0528, 249.18240000000003, 284.0528, 251.18240000000003], 'label': 12, 'category': 'bread roll'}, {'bbox': [215.14720000000003, 275.9472, 217.14720000000003, 277.9472], 'label': 12, 'category': 'bread roll'}, {'bbox': [269.8352, 303.288, 271.8352, 305.288], 'label': 12, 'category': 'bread roll'}, {'bbox': [334.41760000000005, 294.5648, 336.41760000000005, 296.5648], 'label': 12, 'category': 'bread roll'}, {'bbox': [373.40000000000003, 252.088, 375.40000000000003, 254.088], 'label': 12, 'category': 'bread roll'}, {'bbox': [403.6528, 175.28799999999998, 405.6528, 177.28799999999998], 'label': 12, 'category': 'bread roll'}, {'bbox': [443.8, 161.912, 445.8, 163.912], 'label': 12, 'category': 'bread roll'}, {'bbox': [399.0, 146.7824, 401.0, 148.7824], 'label': 12, 'category': 'bread roll'}, {'bbox': [369.32959999999997, 163.0704, 371.32959999999997, 165.0704], 'label': 12, 'category': 'bread roll'}, {'bbox': [346.0528, 144.4528, 348.0528, 146.4528], 'label': 12, 'category': 'bread roll'}, {'bbox': [311.7296, 142.12959999999998, 313.7296, 144.12959999999998], 'label': 12, 'category': 'bread roll'}, {'bbox': [297.7648, 156.088, 299.7648, 158.088], 'label': 12, 'category': 'bread roll'}, {'bbox': [328.0176, 170.0528, 330.0176, 172.0528], 'label': 12, 'category': 'bread roll'}]}, 'exemplars': [[244, 276, 305, 339], [256, 223, 314, 273], [388, 155, 440, 195]]}\n",
            "{'filename': '21.jpg', 'height': 384, 'width': 573, 'detection': {'instances': [{'bbox': [66.3919625, 205.99462686567165, 68.3919625, 207.99462686567165], 'label': 12, 'category': 'bread roll'}, {'bbox': [177.79748750000002, 138.1283582089552, 179.79748750000002, 140.1283582089552], 'label': 12, 'category': 'bread roll'}, {'bbox': [175.28345000000002, 62.72537313432836, 177.28345000000002, 64.72537313432835], 'label': 12, 'category': 'bread roll'}, {'bbox': [275.801975, 81.15880597014926, 277.801975, 83.15880597014926], 'label': 12, 'category': 'bread roll'}, {'bbox': [421.5445250000001, 117.18029850746268, 423.5445250000001, 119.18029850746268], 'label': 12, 'category': 'bread roll'}, {'bbox': [328.56811250000004, 177.50268656716418, 330.56811250000004, 179.50268656716418], 'label': 12, 'category': 'bread roll'}, {'bbox': [196.22660000000002, 250.39820895522388, 198.22660000000002, 252.39820895522388], 'label': 12, 'category': 'bread roll'}, {'bbox': [367.10236249999997, 308.20597014925374, 369.10236249999997, 310.20597014925374], 'label': 12, 'category': 'bread roll'}]}, 'exemplars': [[133, 41, 223, 102], [137, 203, 266, 321], [274, 142, 379, 231]]}\n"
          ]
        }
      ],
      "source": [
        "import json\n",
        "\n",
        "# Path ke file JSONL\n",
        "annotation_path = \"/home/renaldy_fredyan/PhDResearch/CountGD/Reproduced_CountGD/data/fsc147_gdino/fsc147_odvg/fsc147_train_odvg_exemplars.jsonl\"\n",
        "\n",
        "# Membaca file JSONL baris per baris\n",
        "with open(annotation_path, 'r') as f:\n",
        "    annotations = [json.loads(line) for line in f]\n",
        "\n",
        "# Contoh: Menampilkan 5 entri pertama\n",
        "for annotation in annotations[:5]:\n",
        "    print(annotation)\n"
      ]
    },
    {
      "cell_type": "code",
      "execution_count": 4,
      "id": "c821cb4d-ddd7-4515-8f89-f8e94558af96",
      "metadata": {},
      "outputs": [
        {
          "name": "stdout",
          "output_type": "stream",
          "text": [
            "{'filename': '7.jpg', 'height': 384, 'width': 384, 'detection': {'instances': [{'bbox': [32.744, 295.72639999999996, 34.744, 297.72639999999996], 'label': 69, 'category': 'pepper'}, {'bbox': [22.856, 255.58399999999995, 24.856, 257.58399999999995], 'label': 69, 'category': 'pepper'}, {'bbox': [30.185599999999997, 220.2656, 32.185599999999994, 222.2656], 'label': 69, 'category': 'pepper'}, {'bbox': [44.2064, 178.7216, 46.2064, 180.7216], 'label': 69, 'category': 'pepper'}, {'bbox': [66.60799999999999, 147.3056, 68.60799999999999, 149.3056], 'label': 69, 'category': 'pepper'}, {'bbox': [98.6672, 123.39199999999998, 100.6672, 125.39199999999998], 'label': 69, 'category': 'pepper'}, {'bbox': [140.672, 114.1424, 142.672, 116.1424], 'label': 69, 'category': 'pepper'}, {'bbox': [190.7696, 117.344, 192.7696, 119.344], 'label': 69, 'category': 'pepper'}, {'bbox': [258.25759999999997, 124.61599999999999, 260.25759999999997, 126.61599999999999], 'label': 69, 'category': 'pepper'}, {'bbox': [302.5328, 160.976, 304.5328, 162.976], 'label': 69, 'category': 'pepper'}, {'bbox': [321.152, 205.1984, 323.152, 207.1984], 'label': 69, 'category': 'pepper'}, {'bbox': [326.96959999999996, 258.7232, 328.96959999999996, 260.7232], 'label': 69, 'category': 'pepper'}, {'bbox': [326.96959999999996, 312.2528, 328.96959999999996, 314.2528], 'label': 69, 'category': 'pepper'}]}}\n",
            "{'filename': '9.jpg', 'height': 384, 'width': 512, 'detection': {'instances': [{'bbox': [33.988800000000005, 150.0336, 35.988800000000005, 152.0336], 'label': 12, 'category': 'bread roll'}, {'bbox': [107.0704, 65.88, 109.0704, 67.88], 'label': 12, 'category': 'bread roll'}, {'bbox': [230.6416, 60.120000000000005, 232.6416, 62.120000000000005], 'label': 12, 'category': 'bread roll'}, {'bbox': [221.78400000000002, 155.3456, 223.78400000000002, 157.3456], 'label': 12, 'category': 'bread roll'}, {'bbox': [106.6288, 240.38240000000002, 108.6288, 242.38240000000002], 'label': 12, 'category': 'bread roll'}, {'bbox': [235.512, 254.1168, 237.512, 256.1168], 'label': 12, 'category': 'bread roll'}, {'bbox': [363.0704, 189.0096, 365.0704, 191.0096], 'label': 12, 'category': 'bread roll'}, {'bbox': [371.92800000000005, 100.8688, 373.92800000000005, 102.8688], 'label': 12, 'category': 'bread roll'}]}}\n",
            "{'filename': '19.jpg', 'height': 384, 'width': 512, 'detection': {'instances': [{'bbox': [186.34720000000002, 116.93280000000001, 188.34720000000002, 118.93280000000001], 'label': 12, 'category': 'bread roll'}, {'bbox': [264.888, 112.8624, 266.888, 114.8624], 'label': 12, 'category': 'bread roll'}, {'bbox': [360.88800000000003, 121.59200000000001, 362.88800000000003, 123.59200000000001], 'label': 12, 'category': 'bread roll'}, {'bbox': [323.6528, 188.49759999999998, 325.6528, 190.49759999999998], 'label': 12, 'category': 'bread roll'}, {'bbox': [235.8, 186.168, 237.8, 188.168], 'label': 12, 'category': 'bread roll'}, {'bbox': [156.088, 187.3328, 158.088, 189.3328], 'label': 12, 'category': 'bread roll'}, {'bbox': [188.6704, 266.4624, 190.6704, 268.4624], 'label': 12, 'category': 'bread roll'}, {'bbox': [280.6, 265.88, 282.6, 267.88], 'label': 12, 'category': 'bread roll'}, {'bbox': [383.0, 265.2976, 385.0, 267.2976], 'label': 12, 'category': 'bread roll'}]}}\n",
            "{'filename': '20.jpg', 'height': 384, 'width': 512, 'detection': {'instances': [{'bbox': [222.12959999999998, 227.65279999999998, 224.12959999999998, 229.65279999999998], 'label': 12, 'category': 'bread roll'}, {'bbox': [268.088, 204.9648, 270.088, 206.9648], 'label': 12, 'category': 'bread roll'}, {'bbox': [332.67040000000003, 214.8528, 334.67040000000003, 216.8528], 'label': 12, 'category': 'bread roll'}, {'bbox': [282.0528, 249.18240000000003, 284.0528, 251.18240000000003], 'label': 12, 'category': 'bread roll'}, {'bbox': [215.14720000000003, 275.9472, 217.14720000000003, 277.9472], 'label': 12, 'category': 'bread roll'}, {'bbox': [269.8352, 303.288, 271.8352, 305.288], 'label': 12, 'category': 'bread roll'}, {'bbox': [334.41760000000005, 294.5648, 336.41760000000005, 296.5648], 'label': 12, 'category': 'bread roll'}, {'bbox': [373.40000000000003, 252.088, 375.40000000000003, 254.088], 'label': 12, 'category': 'bread roll'}, {'bbox': [403.6528, 175.28799999999998, 405.6528, 177.28799999999998], 'label': 12, 'category': 'bread roll'}, {'bbox': [443.8, 161.912, 445.8, 163.912], 'label': 12, 'category': 'bread roll'}, {'bbox': [399.0, 146.7824, 401.0, 148.7824], 'label': 12, 'category': 'bread roll'}, {'bbox': [369.32959999999997, 163.0704, 371.32959999999997, 165.0704], 'label': 12, 'category': 'bread roll'}, {'bbox': [346.0528, 144.4528, 348.0528, 146.4528], 'label': 12, 'category': 'bread roll'}, {'bbox': [311.7296, 142.12959999999998, 313.7296, 144.12959999999998], 'label': 12, 'category': 'bread roll'}, {'bbox': [297.7648, 156.088, 299.7648, 158.088], 'label': 12, 'category': 'bread roll'}, {'bbox': [328.0176, 170.0528, 330.0176, 172.0528], 'label': 12, 'category': 'bread roll'}]}}\n",
            "{'filename': '21.jpg', 'height': 384, 'width': 573, 'detection': {'instances': [{'bbox': [66.3919625, 205.99462686567165, 68.3919625, 207.99462686567165], 'label': 12, 'category': 'bread roll'}, {'bbox': [177.79748750000002, 138.1283582089552, 179.79748750000002, 140.1283582089552], 'label': 12, 'category': 'bread roll'}, {'bbox': [175.28345000000002, 62.72537313432836, 177.28345000000002, 64.72537313432835], 'label': 12, 'category': 'bread roll'}, {'bbox': [275.801975, 81.15880597014926, 277.801975, 83.15880597014926], 'label': 12, 'category': 'bread roll'}, {'bbox': [421.5445250000001, 117.18029850746268, 423.5445250000001, 119.18029850746268], 'label': 12, 'category': 'bread roll'}, {'bbox': [328.56811250000004, 177.50268656716418, 330.56811250000004, 179.50268656716418], 'label': 12, 'category': 'bread roll'}, {'bbox': [196.22660000000002, 250.39820895522388, 198.22660000000002, 252.39820895522388], 'label': 12, 'category': 'bread roll'}, {'bbox': [367.10236249999997, 308.20597014925374, 369.10236249999997, 310.20597014925374], 'label': 12, 'category': 'bread roll'}]}}\n"
          ]
        }
      ],
      "source": [
        "import json\n",
        "\n",
        "# Path ke file JSONL\n",
        "annotation_path = \"/home/renaldy_fredyan/PhDResearch/CountGD/Reproduced_CountGD/data/fsc147_gdino/fsc147_odvg/fsc147_train_odvg.jsonl\"\n",
        "\n",
        "# Membaca file JSONL baris per baris\n",
        "with open(annotation_path, 'r') as f:\n",
        "    annotations = [json.loads(line) for line in f]\n",
        "\n",
        "# Contoh: Menampilkan 5 entri pertama\n",
        "for annotation in annotations[:5]:\n",
        "    print(annotation)\n"
      ]
    },
    {
      "cell_type": "code",
      "execution_count": 5,
      "id": "e9325d32-c8f0-48b4-861d-dc0a06736bf3",
      "metadata": {},
      "outputs": [
        {
          "name": "stdout",
          "output_type": "stream",
          "text": [
            "File: groundingdino_swinb_cogcoor.pth (Path: /home/renaldy_fredyan/PhDResearch/CountGD/Reproduced_CountGD/checkpoints/groundingdino_swinb_cogcoor.pth)\n",
            "File: pytorch_model.bin (Path: /home/renaldy_fredyan/PhDResearch/CountGD/Reproduced_CountGD/checkpoints/bert-base-uncased/pytorch_model.bin)\n",
            "File: config.json (Path: /home/renaldy_fredyan/PhDResearch/CountGD/Reproduced_CountGD/checkpoints/bert-base-uncased/config.json)\n",
            "File: vocab.txt (Path: /home/renaldy_fredyan/PhDResearch/CountGD/Reproduced_CountGD/checkpoints/bert-base-uncased/vocab.txt)\n",
            "File: tokenizer_config.json (Path: /home/renaldy_fredyan/PhDResearch/CountGD/Reproduced_CountGD/checkpoints/bert-base-uncased/tokenizer_config.json)\n",
            "File: model.safetensors (Path: /home/renaldy_fredyan/PhDResearch/CountGD/Reproduced_CountGD/checkpoints/bert-base-uncased/model.safetensors)\n",
            "File: tokenizer.json (Path: /home/renaldy_fredyan/PhDResearch/CountGD/Reproduced_CountGD/checkpoints/bert-base-uncased/tokenizer.json)\n",
            "File: special_tokens_map.json (Path: /home/renaldy_fredyan/PhDResearch/CountGD/Reproduced_CountGD/checkpoints/bert-base-uncased/special_tokens_map.json)\n"
          ]
        }
      ],
      "source": [
        "import os\n",
        "\n",
        "path = \"/home/renaldy_fredyan/PhDResearch/CountGD/Reproduced_CountGD/checkpoints\"\n",
        "for root, dirs, files in os.walk(path):\n",
        "    for file in files:\n",
        "        print(f\"File: {file} (Path: {os.path.join(root, file)})\")\n"
      ]
    },
    {
      "cell_type": "code",
      "execution_count": 6,
      "id": "d181ea1c-fb63-4c0b-99c5-98f3655705a8",
      "metadata": {},
      "outputs": [],
      "source": [
        "import json\n",
        "import os\n",
        "\n",
        "# Path ke direktori tempat file JSON berada\n",
        "directory_path = \"/home/renaldy_fredyan/PhDResearch/CountGD/original-CountGD/config/\"\n",
        "\n",
        "# Fungsi untuk membaca file JSON berdasarkan nama file\n",
        "def load_json(filename):\n",
        "    file_path = os.path.join(directory_path, filename)\n",
        "    try:\n",
        "        with open(file_path, 'r') as f:\n",
        "            data = json.load(f)\n",
        "        print(f\"Berhasil membaca: {filename}\")\n",
        "        return data\n",
        "    except Exception as e:\n",
        "        print(f\"Gagal membaca {filename}: {e}\")\n",
        "        return None\n"
      ]
    },
    {
      "cell_type": "code",
      "execution_count": 7,
      "id": "55904155-9524-4c58-93e2-5c12d222e8d1",
      "metadata": {},
      "outputs": [
        {
          "name": "stdout",
          "output_type": "stream",
          "text": [
            "Berhasil membaca: datasets_fsc147_val.json\n",
            "Berhasil membaca: datasets_fsc147_test.json\n",
            "Berhasil membaca: datasets_fsc147.json\n",
            "Berhasil membaca: coco2017_label_map.json\n",
            "Berhasil membaca: datasets_fsc147_debug.json\n",
            "Berhasil membaca: datasets_fsc147_exemplar_debug.json\n",
            "Berhasil membaca: datasets_mixed_odvg.json\n",
            "Berhasil membaca: datasets_od_example.json\n",
            "Berhasil membaca: datasets_vg_example.json\n",
            "Berhasil membaca: instances_val2017.json\n"
          ]
        }
      ],
      "source": [
        "# Memuat file JSON ke variabel berbeda\n",
        "datasets_fsc147_val = load_json(\"datasets_fsc147_val.json\")\n",
        "datasets_fsc147_test = load_json(\"datasets_fsc147_test.json\")\n",
        "datasets_fsc147 = load_json(\"datasets_fsc147.json\")\n",
        "coco2017_label_map = load_json(\"coco2017_label_map.json\")\n",
        "datasets_fsc147_debug = load_json(\"datasets_fsc147_debug.json\")\n",
        "datasets_fsc147_exemplar_debug = load_json(\"datasets_fsc147_exemplar_debug.json\")\n",
        "datasets_mixed_odvg = load_json(\"datasets_mixed_odvg.json\")\n",
        "datasets_od_example = load_json(\"datasets_od_example.json\")\n",
        "datasets_vg_example = load_json(\"datasets_vg_example.json\")\n",
        "instances_val2017 = load_json(\"instances_val2017.json\")\n"
      ]
    },
    {
      "cell_type": "code",
      "execution_count": 8,
      "id": "e458ac62-4300-4755-897a-811fefbce116",
      "metadata": {},
      "outputs": [
        {
          "name": "stdout",
          "output_type": "stream",
          "text": [
            "{'train': [{'anno': './data/fsc147_gdino/fsc147_odvg/fsc147_train_odvg_exemplars.jsonl',\n",
            "            'dataset_mode': 'odvg',\n",
            "            'label_map': './data/fsc147_gdino/fsc147_odvg/train_label_map.json',\n",
            "            'root': '/home/renaldy_fredyan/PhDResearch/LOCA/Dataset/images_384_VarV2'}],\n",
            " 'val': [{'anno': './data/fsc147_gdino/fsc147_coco/coco_val_exemplars.json',\n",
            "          'dataset_mode': 'coco',\n",
            "          'label_map': None,\n",
            "          'root': '/home/renaldy_fredyan/PhDResearch/LOCA/Dataset/images_384_VarV2'}]}\n"
          ]
        }
      ],
      "source": [
        "import pprint\n",
        "pprint.pprint(datasets_fsc147_val)\n"
      ]
    },
    {
      "cell_type": "code",
      "execution_count": 9,
      "id": "79b4e36b-ad0d-441e-a0a6-bb9867e8ec7b",
      "metadata": {},
      "outputs": [
        {
          "name": "stdout",
          "output_type": "stream",
          "text": [
            "{'train': [{'anno': './data/fsc147_gdino/fsc147_odvg/fsc147_train_odvg_exemplars.jsonl',\n",
            "            'dataset_mode': 'odvg',\n",
            "            'label_map': './data/fsc147_gdino/fsc147_odvg/train_label_map.json',\n",
            "            'root': './FSC147_384_V2/images_384_VarV2'}],\n",
            " 'val': [{'anno': './data/fsc147_gdino/fsc147_coco/coco_test_exemplars.json',\n",
            "          'dataset_mode': 'coco',\n",
            "          'label_map': None,\n",
            "          'root': './FSC147_384_V2/images_384_VarV2'}]}\n"
          ]
        }
      ],
      "source": [
        "pprint.pprint(datasets_fsc147_test)"
      ]
    },
    {
      "cell_type": "code",
      "execution_count": 10,
      "id": "7942792f-3ff0-4bb5-a623-b0d48f4cbea2",
      "metadata": {},
      "outputs": [
        {
          "name": "stdout",
          "output_type": "stream",
          "text": [
            "{'train': [{'anno': './data/fsc147_gdino/fsc147_odvg/fsc147_train_odvg_exemplars.jsonl',\n",
            "            'dataset_mode': 'odvg',\n",
            "            'label_map': './data/fsc147_gdino/fsc147_odvg/train_label_map.json',\n",
            "            'root': '../CountGD/FSC147_384_V2/images_384_VarV2'}],\n",
            " 'val': [{'anno': './data/fsc147_gdino/fsc147_coco/coco_val_exemplars.json',\n",
            "          'dataset_mode': 'coco',\n",
            "          'label_map': None,\n",
            "          'root': '../CountGD/FSC147_384_V2/images_384_VarV2'}]}\n"
          ]
        }
      ],
      "source": [
        "pprint.pprint(datasets_fsc147)"
      ]
    },
    {
      "cell_type": "code",
      "execution_count": 11,
      "id": "0d8c679d-6796-43d0-8cd4-ed7b60beaa0f",
      "metadata": {},
      "outputs": [
        {
          "name": "stdout",
          "output_type": "stream",
          "text": [
            "{'0': 'person',\n",
            " '1': 'bicycle',\n",
            " '10': 'fire hydrant',\n",
            " '11': 'stop sign',\n",
            " '12': 'parking meter',\n",
            " '13': 'bench',\n",
            " '14': 'bird',\n",
            " '15': 'cat',\n",
            " '16': 'dog',\n",
            " '17': 'horse',\n",
            " '18': 'sheep',\n",
            " '19': 'cow',\n",
            " '2': 'car',\n",
            " '20': 'elephant',\n",
            " '21': 'bear',\n",
            " '22': 'zebra',\n",
            " '23': 'giraffe',\n",
            " '24': 'backpack',\n",
            " '25': 'umbrella',\n",
            " '26': 'handbag',\n",
            " '27': 'tie',\n",
            " '28': 'suitcase',\n",
            " '29': 'frisbee',\n",
            " '3': 'motorcycle',\n",
            " '30': 'skis',\n",
            " '31': 'snowboard',\n",
            " '32': 'sports ball',\n",
            " '33': 'kite',\n",
            " '34': 'baseball bat',\n",
            " '35': 'baseball glove',\n",
            " '36': 'skateboard',\n",
            " '37': 'surfboard',\n",
            " '38': 'tennis racket',\n",
            " '39': 'bottle',\n",
            " '4': 'airplane',\n",
            " '40': 'wine glass',\n",
            " '41': 'cup',\n",
            " '42': 'fork',\n",
            " '43': 'knife',\n",
            " '44': 'spoon',\n",
            " '45': 'bowl',\n",
            " '46': 'banana',\n",
            " '47': 'apple',\n",
            " '48': 'sandwich',\n",
            " '49': 'orange',\n",
            " '5': 'bus',\n",
            " '50': 'broccoli',\n",
            " '51': 'carrot',\n",
            " '52': 'hot dog',\n",
            " '53': 'pizza',\n",
            " '54': 'donut',\n",
            " '55': 'cake',\n",
            " '56': 'chair',\n",
            " '57': 'couch',\n",
            " '58': 'potted plant',\n",
            " '59': 'bed',\n",
            " '6': 'train',\n",
            " '60': 'dining table',\n",
            " '61': 'toilet',\n",
            " '62': 'tv',\n",
            " '63': 'laptop',\n",
            " '64': 'mouse',\n",
            " '65': 'remote',\n",
            " '66': 'keyboard',\n",
            " '67': 'cell phone',\n",
            " '68': 'microwave',\n",
            " '69': 'oven',\n",
            " '7': 'truck',\n",
            " '70': 'toaster',\n",
            " '71': 'sink',\n",
            " '72': 'refrigerator',\n",
            " '73': 'book',\n",
            " '74': 'clock',\n",
            " '75': 'vase',\n",
            " '76': 'scissors',\n",
            " '77': 'teddy bear',\n",
            " '78': 'hair drier',\n",
            " '79': 'toothbrush',\n",
            " '8': 'boat',\n",
            " '9': 'traffic light'}\n"
          ]
        }
      ],
      "source": [
        "pprint.pprint(coco2017_label_map)"
      ]
    },
    {
      "cell_type": "code",
      "execution_count": 12,
      "id": "d732fd54-c776-49c5-b5a2-467ea92341cd",
      "metadata": {},
      "outputs": [
        {
          "name": "stdout",
          "output_type": "stream",
          "text": [
            "{'train': [{'anno': '/scratch/shared/beegfs/nikian/fsc147_odvg/fsc147_train_odvg.jsonl',\n",
            "            'dataset_mode': 'odvg',\n",
            "            'label_map': '/scratch/shared/beegfs/nikian/fsc147_odvg/train_label_map.json',\n",
            "            'root': '/scratch/shared/beegfs/nikian/FSC-147/images_384_VarV2'}],\n",
            " 'val': [{'anno': '/scratch/shared/beegfs/nikian/fsc147_coco/coco_val.json',\n",
            "          'dataset_mode': 'coco',\n",
            "          'label_map': None,\n",
            "          'root': '/scratch/shared/beegfs/nikian/FSC-147/images_384_VarV2'}]}\n"
          ]
        }
      ],
      "source": [
        "pprint.pprint(datasets_fsc147_debug)"
      ]
    },
    {
      "cell_type": "code",
      "execution_count": 13,
      "id": "af27a7d3-b5b1-49b1-844b-184df99b5a67",
      "metadata": {},
      "outputs": [
        {
          "name": "stdout",
          "output_type": "stream",
          "text": [
            "{'train': [{'anno': '/scratch/shared/beegfs/nikian/fsc147_odvg_exemplars/fsc147_train_odvg_exemplars.jsonl',\n",
            "            'dataset_mode': 'odvg',\n",
            "            'label_map': '/scratch/shared/beegfs/nikian/fsc147_odvg_exemplars/train_label_map.json',\n",
            "            'root': '/scratch/shared/beegfs/nikian/FSC-147/images_384_VarV2'}],\n",
            " 'val': [{'anno': '/scratch/shared/beegfs/nikian/fsc147_coco/coco_val.json',\n",
            "          'dataset_mode': 'coco',\n",
            "          'label_map': None,\n",
            "          'root': '/scratch/shared/beegfs/nikian/FSC-147/images_384_VarV2'}]}\n"
          ]
        }
      ],
      "source": [
        "pprint.pprint(datasets_fsc147_exemplar_debug)"
      ]
    },
    {
      "cell_type": "code",
      "execution_count": 14,
      "id": "a18a15f8-d945-4d30-83af-e9bb2069adda",
      "metadata": {},
      "outputs": [
        {
          "name": "stdout",
          "output_type": "stream",
          "text": [
            "{'train': [{'anno': 'path/V3Det/annotations/v3det_2023_v1_all_odvg.jsonl',\n",
            "            'dataset_mode': 'odvg',\n",
            "            'label_map': 'path/V3Det/annotations/v3det_label_map.json',\n",
            "            'root': 'path/V3Det/'},\n",
            "           {'anno': 'path/LVIS/annotations/lvis_v1_train_odvg.jsonl',\n",
            "            'dataset_mode': 'odvg',\n",
            "            'label_map': 'path/LVIS/annotations/lvis_v1_train_label_map.json',\n",
            "            'root': 'path/LVIS/train2017/'},\n",
            "           {'anno': 'path/Objects365/objects365_train_odvg.json',\n",
            "            'dataset_mode': 'odvg',\n",
            "            'label_map': 'path/Objects365/objects365_label_map.json',\n",
            "            'root': 'path/Objects365/train/'},\n",
            "           {'anno': 'path/OpenImages/anno/openimages_odvg.jsonl',\n",
            "            'dataset_mode': 'odvg',\n",
            "            'label_map': 'path/OpenImages/anno/openimages_label_map.json',\n",
            "            'root': 'path/OpenImages/train/'},\n",
            "           {'anno': 'path/coco_2017/annotations/coco2017_train_odvg.jsonl',\n",
            "            'dataset_mode': 'odvg',\n",
            "            'label_map': 'path/coco_2017/annotations/coco2017_label_map.json',\n",
            "            'root': 'path/coco_2017/train2017/'},\n",
            "           {'anno': 'path/GRIT-20M/anno/grit_odvg_2m.jsonl',\n",
            "            'dataset_mode': 'odvg',\n",
            "            'root': 'path/GRIT-20M/data/'},\n",
            "           {'anno': 'path/flickr30k/annotations/flickr30k_entities_odvg_158k.jsonl',\n",
            "            'dataset_mode': 'odvg',\n",
            "            'root': 'path/flickr30k/images/flickr30k_images/'},\n",
            "           {'anno': 'pathl/vg/annotations/train_odvg_270k.jsonl',\n",
            "            'dataset_mode': 'odvg',\n",
            "            'root': 'path/vg/images/'},\n",
            "           {'anno': 'path/GQA/sceneGraphs/train_sceneGraphs_odvg_357k.jsonl',\n",
            "            'dataset_mode': 'odvg',\n",
            "            'root': 'path/GQA/images/'}],\n",
            " 'val': [{'anno': 'config/instances_val2017.json',\n",
            "          'dataset_mode': 'coco',\n",
            "          'label_map': None,\n",
            "          'root': 'path/coco_2017/val2017'}]}\n"
          ]
        }
      ],
      "source": [
        "pprint.pprint(datasets_mixed_odvg)"
      ]
    },
    {
      "cell_type": "code",
      "execution_count": 15,
      "id": "95404809-85b9-4e08-9297-79b3a57d6ffc",
      "metadata": {},
      "outputs": [
        {
          "name": "stdout",
          "output_type": "stream",
          "text": [
            "{'train': [{'anno': '/scratch/shared/beegfs/nikian/coco/instances_train2017_odvg.json',\n",
            "            'dataset_mode': 'odvg',\n",
            "            'label_map': 'config/coco2017_label_map.json',\n",
            "            'root': '/datasets/COCO2017/train2017'}],\n",
            " 'val': [{'anno': 'config/instances_val2017.json',\n",
            "          'dataset_mode': 'coco',\n",
            "          'label_map': None,\n",
            "          'root': '/datasets/COCO2017/val2017'}]}\n"
          ]
        }
      ],
      "source": [
        "pprint.pprint(datasets_od_example)"
      ]
    },
    {
      "cell_type": "code",
      "execution_count": 16,
      "id": "ce6db4fd-b439-4405-9e19-b76bf7257d2e",
      "metadata": {},
      "outputs": [
        {
          "name": "stdout",
          "output_type": "stream",
          "text": [
            "{'train': [{'anno': 'path/GRIT-20M/anno/grit_odvg_10k.jsonl',\n",
            "            'dataset_mode': 'odvg',\n",
            "            'root': 'path/GRIT-20M/data/'}],\n",
            " 'val': [{'anno': 'config/instances_val2017.json',\n",
            "          'dataset_mode': 'coco',\n",
            "          'label_map': None,\n",
            "          'root': 'path/coco_2017/val2017'}]}\n"
          ]
        }
      ],
      "source": [
        "pprint.pprint(datasets_vg_example)"
      ]
    }
  ],
  "metadata": {
    "kernelspec": {
      "display_name": "Python 3 (ipykernel)",
      "language": "python",
      "name": "python3"
    },
    "language_info": {
      "codemirror_mode": {
        "name": "ipython",
        "version": 3
      },
      "file_extension": ".py",
      "mimetype": "text/x-python",
      "name": "python",
      "nbconvert_exporter": "python",
      "pygments_lexer": "ipython3",
      "version": "3.9.19"
    }
  },
  "nbformat": 4,
  "nbformat_minor": 5
}