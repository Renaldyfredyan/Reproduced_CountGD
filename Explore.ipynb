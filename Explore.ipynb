{
 "cells": [
  {
   "cell_type": "code",
   "execution_count": 1,
   "id": "3f7e7d63-2adf-416f-9596-90dd59237232",
   "metadata": {},
   "outputs": [],
   "source": [
    "# from transformers import BertModel\n",
    "# from safetensors.torch import load_file\n",
    "\n",
    "# # # Path ke folder model\n",
    "# # model_dir = \"./Reproduced_CountGD/checkpoints/bert-base-uncased\"\n",
    "\n",
    "# # # Load dari safetensors\n",
    "# # state_dict = load_file(f\"{model_dir}/model.safetensors\")\n",
    "\n",
    "# # # Load model dengan state_dict\n",
    "# # model = BertModel.from_pretrained(model_dir, state_dict=state_dict, from_tf=False)\n",
    "\n",
    "# # # Simpan sebagai pytorch_model.bin\n",
    "# # model.save_pretrained(model_dir)\n",
    "# # print(\"Konversi selesai! File pytorch_model.bin telah dibuat.\")\n",
    "# from transformers import BertModel\n",
    "\n",
    "# BertModel.from_pretrained(\"bert-base-uncased\").save_pretrained(\"/home/renaldy_fredyan/PhDResearch/CountGD/Reproduced_CountGD/checkpoints/bert-base-uncased\")\n"
   ]
  },
  {
   "cell_type": "code",
   "execution_count": 2,
   "id": "f48a5d84-6c82-4c82-a81e-15d6ea62175e",
   "metadata": {},
   "outputs": [
    {
     "name": "stdout",
     "output_type": "stream",
     "text": [
      "{\n",
      "    \"0\": \"ant\",\n",
      "    \"1\": \"bird\",\n",
      "    \"2\": \"book\",\n",
      "    \"3\": \"bottle cap\",\n",
      "    \"4\": \"bullet\",\n",
      "    \"5\": \"camel\",\n",
      "    \"6\": \"chair\",\n",
      "    \"7\": \"chicken wing\",\n",
      "    \"8\": \"donut\",\n",
      "    \"9\": \"donut holder\",\n",
      "    \"10\": \"flamingo\",\n",
      "    \"11\": \"flower\",\n",
      "    \"12\": \"flower pot\",\n",
      "    \"13\": \"grape\",\n",
      "    \"14\": \"horse\",\n",
      "    \"15\": \"kiwi\",\n",
      "    \"16\": \"milk carton\",\n",
      "    \"17\": \"oyster\",\n",
      "    \"18\": \"oyster shell\",\n",
      "    \"19\": \"package of fresh cut fruit\",\n",
      "    \"20\": \"peach\",\n",
      "    \"21\": \"pill\",\n",
      "    \"22\": \"polka dot\",\n",
      "    \"23\": \"prawn cracker\",\n",
      "    \"24\": \"sausage\",\n",
      "    \"25\": \"seagull\",\n",
      "    \"26\": \"shallot\",\n",
      "    \"27\": \"shirt\",\n",
      "    \"28\": \"skateboard\",\n",
      "    \"29\": \"toilet paper roll\"\n",
      "}"
     ]
    }
   ],
   "source": [
    "!head -n 100 /home/renaldy_fredyan/PhDResearch/CountGD/Reproduced_CountGD/data/fsc147_gdino/fsc147_odvg/val_label_map.json\n"
   ]
  },
  {
   "cell_type": "code",
   "execution_count": 3,
   "id": "dfae3413-1b3f-4c27-9205-9182868073c9",
   "metadata": {
    "scrolled": true
   },
   "outputs": [
    {
     "name": "stdout",
     "output_type": "stream",
     "text": [
      "{'filename': '7.jpg', 'height': 384, 'width': 384, 'detection': {'instances': [{'bbox': [32.744, 295.72639999999996, 34.744, 297.72639999999996], 'label': 69, 'category': 'pepper'}, {'bbox': [22.856, 255.58399999999995, 24.856, 257.58399999999995], 'label': 69, 'category': 'pepper'}, {'bbox': [30.185599999999997, 220.2656, 32.185599999999994, 222.2656], 'label': 69, 'category': 'pepper'}, {'bbox': [44.2064, 178.7216, 46.2064, 180.7216], 'label': 69, 'category': 'pepper'}, {'bbox': [66.60799999999999, 147.3056, 68.60799999999999, 149.3056], 'label': 69, 'category': 'pepper'}, {'bbox': [98.6672, 123.39199999999998, 100.6672, 125.39199999999998], 'label': 69, 'category': 'pepper'}, {'bbox': [140.672, 114.1424, 142.672, 116.1424], 'label': 69, 'category': 'pepper'}, {'bbox': [190.7696, 117.344, 192.7696, 119.344], 'label': 69, 'category': 'pepper'}, {'bbox': [258.25759999999997, 124.61599999999999, 260.25759999999997, 126.61599999999999], 'label': 69, 'category': 'pepper'}, {'bbox': [302.5328, 160.976, 304.5328, 162.976], 'label': 69, 'category': 'pepper'}, {'bbox': [321.152, 205.1984, 323.152, 207.1984], 'label': 69, 'category': 'pepper'}, {'bbox': [326.96959999999996, 258.7232, 328.96959999999996, 260.7232], 'label': 69, 'category': 'pepper'}, {'bbox': [326.96959999999996, 312.2528, 328.96959999999996, 314.2528], 'label': 69, 'category': 'pepper'}]}, 'exemplars': [[123, 97, 159, 135], [301, 194, 333, 221], [229, 99, 273, 145]]}\n",
      "{'filename': '9.jpg', 'height': 384, 'width': 512, 'detection': {'instances': [{'bbox': [33.988800000000005, 150.0336, 35.988800000000005, 152.0336], 'label': 12, 'category': 'bread roll'}, {'bbox': [107.0704, 65.88, 109.0704, 67.88], 'label': 12, 'category': 'bread roll'}, {'bbox': [230.6416, 60.120000000000005, 232.6416, 62.120000000000005], 'label': 12, 'category': 'bread roll'}, {'bbox': [221.78400000000002, 155.3456, 223.78400000000002, 157.3456], 'label': 12, 'category': 'bread roll'}, {'bbox': [106.6288, 240.38240000000002, 108.6288, 242.38240000000002], 'label': 12, 'category': 'bread roll'}, {'bbox': [235.512, 254.1168, 237.512, 256.1168], 'label': 12, 'category': 'bread roll'}, {'bbox': [363.0704, 189.0096, 365.0704, 191.0096], 'label': 12, 'category': 'bread roll'}, {'bbox': [371.92800000000005, 100.8688, 373.92800000000005, 102.8688], 'label': 12, 'category': 'bread roll'}]}, 'exemplars': [[145, 108, 288, 202], [5, 188, 165, 328], [297, 136, 450, 269]]}\n",
      "{'filename': '19.jpg', 'height': 384, 'width': 512, 'detection': {'instances': [{'bbox': [186.34720000000002, 116.93280000000001, 188.34720000000002, 118.93280000000001], 'label': 12, 'category': 'bread roll'}, {'bbox': [264.888, 112.8624, 266.888, 114.8624], 'label': 12, 'category': 'bread roll'}, {'bbox': [360.88800000000003, 121.59200000000001, 362.88800000000003, 123.59200000000001], 'label': 12, 'category': 'bread roll'}, {'bbox': [323.6528, 188.49759999999998, 325.6528, 190.49759999999998], 'label': 12, 'category': 'bread roll'}, {'bbox': [235.8, 186.168, 237.8, 188.168], 'label': 12, 'category': 'bread roll'}, {'bbox': [156.088, 187.3328, 158.088, 189.3328], 'label': 12, 'category': 'bread roll'}, {'bbox': [188.6704, 266.4624, 190.6704, 268.4624], 'label': 12, 'category': 'bread roll'}, {'bbox': [280.6, 265.88, 282.6, 267.88], 'label': 12, 'category': 'bread roll'}, {'bbox': [383.0, 265.2976, 385.0, 267.2976], 'label': 12, 'category': 'bread roll'}]}, 'exemplars': [[275, 155, 356, 236], [146, 78, 224, 157], [154, 235, 234, 304]]}\n",
      "{'filename': '20.jpg', 'height': 384, 'width': 512, 'detection': {'instances': [{'bbox': [222.12959999999998, 227.65279999999998, 224.12959999999998, 229.65279999999998], 'label': 12, 'category': 'bread roll'}, {'bbox': [268.088, 204.9648, 270.088, 206.9648], 'label': 12, 'category': 'bread roll'}, {'bbox': [332.67040000000003, 214.8528, 334.67040000000003, 216.8528], 'label': 12, 'category': 'bread roll'}, {'bbox': [282.0528, 249.18240000000003, 284.0528, 251.18240000000003], 'label': 12, 'category': 'bread roll'}, {'bbox': [215.14720000000003, 275.9472, 217.14720000000003, 277.9472], 'label': 12, 'category': 'bread roll'}, {'bbox': [269.8352, 303.288, 271.8352, 305.288], 'label': 12, 'category': 'bread roll'}, {'bbox': [334.41760000000005, 294.5648, 336.41760000000005, 296.5648], 'label': 12, 'category': 'bread roll'}, {'bbox': [373.40000000000003, 252.088, 375.40000000000003, 254.088], 'label': 12, 'category': 'bread roll'}, {'bbox': [403.6528, 175.28799999999998, 405.6528, 177.28799999999998], 'label': 12, 'category': 'bread roll'}, {'bbox': [443.8, 161.912, 445.8, 163.912], 'label': 12, 'category': 'bread roll'}, {'bbox': [399.0, 146.7824, 401.0, 148.7824], 'label': 12, 'category': 'bread roll'}, {'bbox': [369.32959999999997, 163.0704, 371.32959999999997, 165.0704], 'label': 12, 'category': 'bread roll'}, {'bbox': [346.0528, 144.4528, 348.0528, 146.4528], 'label': 12, 'category': 'bread roll'}, {'bbox': [311.7296, 142.12959999999998, 313.7296, 144.12959999999998], 'label': 12, 'category': 'bread roll'}, {'bbox': [297.7648, 156.088, 299.7648, 158.088], 'label': 12, 'category': 'bread roll'}, {'bbox': [328.0176, 170.0528, 330.0176, 172.0528], 'label': 12, 'category': 'bread roll'}]}, 'exemplars': [[244, 276, 305, 339], [256, 223, 314, 273], [388, 155, 440, 195]]}\n",
      "{'filename': '21.jpg', 'height': 384, 'width': 573, 'detection': {'instances': [{'bbox': [66.3919625, 205.99462686567165, 68.3919625, 207.99462686567165], 'label': 12, 'category': 'bread roll'}, {'bbox': [177.79748750000002, 138.1283582089552, 179.79748750000002, 140.1283582089552], 'label': 12, 'category': 'bread roll'}, {'bbox': [175.28345000000002, 62.72537313432836, 177.28345000000002, 64.72537313432835], 'label': 12, 'category': 'bread roll'}, {'bbox': [275.801975, 81.15880597014926, 277.801975, 83.15880597014926], 'label': 12, 'category': 'bread roll'}, {'bbox': [421.5445250000001, 117.18029850746268, 423.5445250000001, 119.18029850746268], 'label': 12, 'category': 'bread roll'}, {'bbox': [328.56811250000004, 177.50268656716418, 330.56811250000004, 179.50268656716418], 'label': 12, 'category': 'bread roll'}, {'bbox': [196.22660000000002, 250.39820895522388, 198.22660000000002, 252.39820895522388], 'label': 12, 'category': 'bread roll'}, {'bbox': [367.10236249999997, 308.20597014925374, 369.10236249999997, 310.20597014925374], 'label': 12, 'category': 'bread roll'}]}, 'exemplars': [[133, 41, 223, 102], [137, 203, 266, 321], [274, 142, 379, 231]]}\n"
     ]
    }
   ],
   "source": [
    "import json\n",
    "\n",
    "# Path ke file JSONL\n",
    "annotation_path = \"/home/renaldy_fredyan/PhDResearch/CountGD/Reproduced_CountGD/data/fsc147_gdino/fsc147_odvg/fsc147_train_odvg_exemplars.jsonl\"\n",
    "\n",
    "# Membaca file JSONL baris per baris\n",
    "with open(annotation_path, 'r') as f:\n",
    "    annotations = [json.loads(line) for line in f]\n",
    "\n",
    "# Contoh: Menampilkan 5 entri pertama\n",
    "for annotation in annotations[:5]:\n",
    "    print(annotation)\n"
   ]
  },
  {
   "cell_type": "code",
   "execution_count": 4,
   "id": "c821cb4d-ddd7-4515-8f89-f8e94558af96",
   "metadata": {},
   "outputs": [
    {
     "name": "stdout",
     "output_type": "stream",
     "text": [
      "{'filename': '7.jpg', 'height': 384, 'width': 384, 'detection': {'instances': [{'bbox': [32.744, 295.72639999999996, 34.744, 297.72639999999996], 'label': 69, 'category': 'pepper'}, {'bbox': [22.856, 255.58399999999995, 24.856, 257.58399999999995], 'label': 69, 'category': 'pepper'}, {'bbox': [30.185599999999997, 220.2656, 32.185599999999994, 222.2656], 'label': 69, 'category': 'pepper'}, {'bbox': [44.2064, 178.7216, 46.2064, 180.7216], 'label': 69, 'category': 'pepper'}, {'bbox': [66.60799999999999, 147.3056, 68.60799999999999, 149.3056], 'label': 69, 'category': 'pepper'}, {'bbox': [98.6672, 123.39199999999998, 100.6672, 125.39199999999998], 'label': 69, 'category': 'pepper'}, {'bbox': [140.672, 114.1424, 142.672, 116.1424], 'label': 69, 'category': 'pepper'}, {'bbox': [190.7696, 117.344, 192.7696, 119.344], 'label': 69, 'category': 'pepper'}, {'bbox': [258.25759999999997, 124.61599999999999, 260.25759999999997, 126.61599999999999], 'label': 69, 'category': 'pepper'}, {'bbox': [302.5328, 160.976, 304.5328, 162.976], 'label': 69, 'category': 'pepper'}, {'bbox': [321.152, 205.1984, 323.152, 207.1984], 'label': 69, 'category': 'pepper'}, {'bbox': [326.96959999999996, 258.7232, 328.96959999999996, 260.7232], 'label': 69, 'category': 'pepper'}, {'bbox': [326.96959999999996, 312.2528, 328.96959999999996, 314.2528], 'label': 69, 'category': 'pepper'}]}}\n",
      "{'filename': '9.jpg', 'height': 384, 'width': 512, 'detection': {'instances': [{'bbox': [33.988800000000005, 150.0336, 35.988800000000005, 152.0336], 'label': 12, 'category': 'bread roll'}, {'bbox': [107.0704, 65.88, 109.0704, 67.88], 'label': 12, 'category': 'bread roll'}, {'bbox': [230.6416, 60.120000000000005, 232.6416, 62.120000000000005], 'label': 12, 'category': 'bread roll'}, {'bbox': [221.78400000000002, 155.3456, 223.78400000000002, 157.3456], 'label': 12, 'category': 'bread roll'}, {'bbox': [106.6288, 240.38240000000002, 108.6288, 242.38240000000002], 'label': 12, 'category': 'bread roll'}, {'bbox': [235.512, 254.1168, 237.512, 256.1168], 'label': 12, 'category': 'bread roll'}, {'bbox': [363.0704, 189.0096, 365.0704, 191.0096], 'label': 12, 'category': 'bread roll'}, {'bbox': [371.92800000000005, 100.8688, 373.92800000000005, 102.8688], 'label': 12, 'category': 'bread roll'}]}}\n",
      "{'filename': '19.jpg', 'height': 384, 'width': 512, 'detection': {'instances': [{'bbox': [186.34720000000002, 116.93280000000001, 188.34720000000002, 118.93280000000001], 'label': 12, 'category': 'bread roll'}, {'bbox': [264.888, 112.8624, 266.888, 114.8624], 'label': 12, 'category': 'bread roll'}, {'bbox': [360.88800000000003, 121.59200000000001, 362.88800000000003, 123.59200000000001], 'label': 12, 'category': 'bread roll'}, {'bbox': [323.6528, 188.49759999999998, 325.6528, 190.49759999999998], 'label': 12, 'category': 'bread roll'}, {'bbox': [235.8, 186.168, 237.8, 188.168], 'label': 12, 'category': 'bread roll'}, {'bbox': [156.088, 187.3328, 158.088, 189.3328], 'label': 12, 'category': 'bread roll'}, {'bbox': [188.6704, 266.4624, 190.6704, 268.4624], 'label': 12, 'category': 'bread roll'}, {'bbox': [280.6, 265.88, 282.6, 267.88], 'label': 12, 'category': 'bread roll'}, {'bbox': [383.0, 265.2976, 385.0, 267.2976], 'label': 12, 'category': 'bread roll'}]}}\n",
      "{'filename': '20.jpg', 'height': 384, 'width': 512, 'detection': {'instances': [{'bbox': [222.12959999999998, 227.65279999999998, 224.12959999999998, 229.65279999999998], 'label': 12, 'category': 'bread roll'}, {'bbox': [268.088, 204.9648, 270.088, 206.9648], 'label': 12, 'category': 'bread roll'}, {'bbox': [332.67040000000003, 214.8528, 334.67040000000003, 216.8528], 'label': 12, 'category': 'bread roll'}, {'bbox': [282.0528, 249.18240000000003, 284.0528, 251.18240000000003], 'label': 12, 'category': 'bread roll'}, {'bbox': [215.14720000000003, 275.9472, 217.14720000000003, 277.9472], 'label': 12, 'category': 'bread roll'}, {'bbox': [269.8352, 303.288, 271.8352, 305.288], 'label': 12, 'category': 'bread roll'}, {'bbox': [334.41760000000005, 294.5648, 336.41760000000005, 296.5648], 'label': 12, 'category': 'bread roll'}, {'bbox': [373.40000000000003, 252.088, 375.40000000000003, 254.088], 'label': 12, 'category': 'bread roll'}, {'bbox': [403.6528, 175.28799999999998, 405.6528, 177.28799999999998], 'label': 12, 'category': 'bread roll'}, {'bbox': [443.8, 161.912, 445.8, 163.912], 'label': 12, 'category': 'bread roll'}, {'bbox': [399.0, 146.7824, 401.0, 148.7824], 'label': 12, 'category': 'bread roll'}, {'bbox': [369.32959999999997, 163.0704, 371.32959999999997, 165.0704], 'label': 12, 'category': 'bread roll'}, {'bbox': [346.0528, 144.4528, 348.0528, 146.4528], 'label': 12, 'category': 'bread roll'}, {'bbox': [311.7296, 142.12959999999998, 313.7296, 144.12959999999998], 'label': 12, 'category': 'bread roll'}, {'bbox': [297.7648, 156.088, 299.7648, 158.088], 'label': 12, 'category': 'bread roll'}, {'bbox': [328.0176, 170.0528, 330.0176, 172.0528], 'label': 12, 'category': 'bread roll'}]}}\n",
      "{'filename': '21.jpg', 'height': 384, 'width': 573, 'detection': {'instances': [{'bbox': [66.3919625, 205.99462686567165, 68.3919625, 207.99462686567165], 'label': 12, 'category': 'bread roll'}, {'bbox': [177.79748750000002, 138.1283582089552, 179.79748750000002, 140.1283582089552], 'label': 12, 'category': 'bread roll'}, {'bbox': [175.28345000000002, 62.72537313432836, 177.28345000000002, 64.72537313432835], 'label': 12, 'category': 'bread roll'}, {'bbox': [275.801975, 81.15880597014926, 277.801975, 83.15880597014926], 'label': 12, 'category': 'bread roll'}, {'bbox': [421.5445250000001, 117.18029850746268, 423.5445250000001, 119.18029850746268], 'label': 12, 'category': 'bread roll'}, {'bbox': [328.56811250000004, 177.50268656716418, 330.56811250000004, 179.50268656716418], 'label': 12, 'category': 'bread roll'}, {'bbox': [196.22660000000002, 250.39820895522388, 198.22660000000002, 252.39820895522388], 'label': 12, 'category': 'bread roll'}, {'bbox': [367.10236249999997, 308.20597014925374, 369.10236249999997, 310.20597014925374], 'label': 12, 'category': 'bread roll'}]}}\n"
     ]
    }
   ],
   "source": [
    "import json\n",
    "\n",
    "# Path ke file JSONL\n",
    "annotation_path = \"/home/renaldy_fredyan/PhDResearch/CountGD/Reproduced_CountGD/data/fsc147_gdino/fsc147_odvg/fsc147_train_odvg.jsonl\"\n",
    "\n",
    "# Membaca file JSONL baris per baris\n",
    "with open(annotation_path, 'r') as f:\n",
    "    annotations = [json.loads(line) for line in f]\n",
    "\n",
    "# Contoh: Menampilkan 5 entri pertama\n",
    "for annotation in annotations[:5]:\n",
    "    print(annotation)\n"
   ]
  },
  {
   "cell_type": "code",
   "execution_count": 5,
   "id": "e9325d32-c8f0-48b4-861d-dc0a06736bf3",
   "metadata": {},
   "outputs": [
    {
     "name": "stdout",
     "output_type": "stream",
     "text": [
      "File: groundingdino_swinb_cogcoor.pth (Path: /home/renaldy_fredyan/PhDResearch/CountGD/Reproduced_CountGD/checkpoints/groundingdino_swinb_cogcoor.pth)\n",
      "File: pytorch_model.bin (Path: /home/renaldy_fredyan/PhDResearch/CountGD/Reproduced_CountGD/checkpoints/bert-base-uncased/pytorch_model.bin)\n",
      "File: config.json (Path: /home/renaldy_fredyan/PhDResearch/CountGD/Reproduced_CountGD/checkpoints/bert-base-uncased/config.json)\n",
      "File: vocab.txt (Path: /home/renaldy_fredyan/PhDResearch/CountGD/Reproduced_CountGD/checkpoints/bert-base-uncased/vocab.txt)\n",
      "File: tokenizer_config.json (Path: /home/renaldy_fredyan/PhDResearch/CountGD/Reproduced_CountGD/checkpoints/bert-base-uncased/tokenizer_config.json)\n",
      "File: model.safetensors (Path: /home/renaldy_fredyan/PhDResearch/CountGD/Reproduced_CountGD/checkpoints/bert-base-uncased/model.safetensors)\n",
      "File: tokenizer.json (Path: /home/renaldy_fredyan/PhDResearch/CountGD/Reproduced_CountGD/checkpoints/bert-base-uncased/tokenizer.json)\n",
      "File: special_tokens_map.json (Path: /home/renaldy_fredyan/PhDResearch/CountGD/Reproduced_CountGD/checkpoints/bert-base-uncased/special_tokens_map.json)\n"
     ]
    }
   ],
   "source": [
    "import os\n",
    "\n",
    "path = \"/home/renaldy_fredyan/PhDResearch/CountGD/Reproduced_CountGD/checkpoints\"\n",
    "for root, dirs, files in os.walk(path):\n",
    "    for file in files:\n",
    "        print(f\"File: {file} (Path: {os.path.join(root, file)})\")\n"
   ]
  },
  {
   "cell_type": "code",
   "execution_count": 6,
   "id": "d181ea1c-fb63-4c0b-99c5-98f3655705a8",
   "metadata": {},
   "outputs": [],
   "source": [
    "import json\n",
    "import os\n",
    "\n",
    "# Path ke direktori tempat file JSON berada\n",
    "directory_path = \"/home/renaldy_fredyan/PhDResearch/CountGD/original-CountGD/config/\"\n",
    "\n",
    "# Fungsi untuk membaca file JSON berdasarkan nama file\n",
    "def load_json(filename):\n",
    "    file_path = os.path.join(directory_path, filename)\n",
    "    try:\n",
    "        with open(file_path, 'r') as f:\n",
    "            data = json.load(f)\n",
    "        print(f\"Berhasil membaca: {filename}\")\n",
    "        return data\n",
    "    except Exception as e:\n",
    "        print(f\"Gagal membaca {filename}: {e}\")\n",
    "        return None\n"
   ]
  },
  {
   "cell_type": "code",
   "execution_count": 7,
   "id": "55904155-9524-4c58-93e2-5c12d222e8d1",
   "metadata": {},
   "outputs": [
    {
     "name": "stdout",
     "output_type": "stream",
     "text": [
      "Berhasil membaca: datasets_fsc147_val.json\n",
      "Berhasil membaca: datasets_fsc147_test.json\n",
      "Berhasil membaca: datasets_fsc147.json\n",
      "Berhasil membaca: coco2017_label_map.json\n",
      "Berhasil membaca: datasets_fsc147_debug.json\n",
      "Berhasil membaca: datasets_fsc147_exemplar_debug.json\n",
      "Berhasil membaca: datasets_mixed_odvg.json\n",
      "Berhasil membaca: datasets_od_example.json\n",
      "Berhasil membaca: datasets_vg_example.json\n",
      "Berhasil membaca: instances_val2017.json\n"
     ]
    }
   ],
   "source": [
    "# Memuat file JSON ke variabel berbeda\n",
    "datasets_fsc147_val = load_json(\"datasets_fsc147_val.json\")\n",
    "datasets_fsc147_test = load_json(\"datasets_fsc147_test.json\")\n",
    "datasets_fsc147 = load_json(\"datasets_fsc147.json\")\n",
    "coco2017_label_map = load_json(\"coco2017_label_map.json\")\n",
    "datasets_fsc147_debug = load_json(\"datasets_fsc147_debug.json\")\n",
    "datasets_fsc147_exemplar_debug = load_json(\"datasets_fsc147_exemplar_debug.json\")\n",
    "datasets_mixed_odvg = load_json(\"datasets_mixed_odvg.json\")\n",
    "datasets_od_example = load_json(\"datasets_od_example.json\")\n",
    "datasets_vg_example = load_json(\"datasets_vg_example.json\")\n",
    "instances_val2017 = load_json(\"instances_val2017.json\")\n"
   ]
  },
  {
   "cell_type": "code",
   "execution_count": 8,
   "id": "e458ac62-4300-4755-897a-811fefbce116",
   "metadata": {},
   "outputs": [
    {
     "name": "stdout",
     "output_type": "stream",
     "text": [
      "{'train': [{'anno': './data/fsc147_gdino/fsc147_odvg/fsc147_train_odvg_exemplars.jsonl',\n",
      "            'dataset_mode': 'odvg',\n",
      "            'label_map': './data/fsc147_gdino/fsc147_odvg/train_label_map.json',\n",
      "            'root': '/home/renaldy_fredyan/PhDResearch/LOCA/Dataset/images_384_VarV2'}],\n",
      " 'val': [{'anno': './data/fsc147_gdino/fsc147_coco/coco_val_exemplars.json',\n",
      "          'dataset_mode': 'coco',\n",
      "          'label_map': None,\n",
      "          'root': '/home/renaldy_fredyan/PhDResearch/LOCA/Dataset/images_384_VarV2'}]}\n"
     ]
    }
   ],
   "source": [
    "import pprint\n",
    "pprint.pprint(datasets_fsc147_val)\n"
   ]
  },
  {
   "cell_type": "code",
   "execution_count": 9,
   "id": "79b4e36b-ad0d-441e-a0a6-bb9867e8ec7b",
   "metadata": {},
   "outputs": [
    {
     "name": "stdout",
     "output_type": "stream",
     "text": [
      "{'train': [{'anno': './data/fsc147_gdino/fsc147_odvg/fsc147_train_odvg_exemplars.jsonl',\n",
      "            'dataset_mode': 'odvg',\n",
      "            'label_map': './data/fsc147_gdino/fsc147_odvg/train_label_map.json',\n",
      "            'root': './FSC147_384_V2/images_384_VarV2'}],\n",
      " 'val': [{'anno': './data/fsc147_gdino/fsc147_coco/coco_test_exemplars.json',\n",
      "          'dataset_mode': 'coco',\n",
      "          'label_map': None,\n",
      "          'root': './FSC147_384_V2/images_384_VarV2'}]}\n"
     ]
    }
   ],
   "source": [
    "pprint.pprint(datasets_fsc147_test)"
   ]
  },
  {
   "cell_type": "code",
   "execution_count": 10,
   "id": "7942792f-3ff0-4bb5-a623-b0d48f4cbea2",
   "metadata": {},
   "outputs": [
    {
     "name": "stdout",
     "output_type": "stream",
     "text": [
      "{'train': [{'anno': './data/fsc147_gdino/fsc147_odvg/fsc147_train_odvg_exemplars.jsonl',\n",
      "            'dataset_mode': 'odvg',\n",
      "            'label_map': './data/fsc147_gdino/fsc147_odvg/train_label_map.json',\n",
      "            'root': '../CountGD/FSC147_384_V2/images_384_VarV2'}],\n",
      " 'val': [{'anno': './data/fsc147_gdino/fsc147_coco/coco_val_exemplars.json',\n",
      "          'dataset_mode': 'coco',\n",
      "          'label_map': None,\n",
      "          'root': '../CountGD/FSC147_384_V2/images_384_VarV2'}]}\n"
     ]
    }
   ],
   "source": [
    "pprint.pprint(datasets_fsc147)"
   ]
  },
  {
   "cell_type": "code",
   "execution_count": 30,
   "id": "0d8c679d-6796-43d0-8cd4-ed7b60beaa0f",
   "metadata": {},
   "outputs": [],
   "source": [
    "# pprint.pprint(coco2017_label_map)"
   ]
  },
  {
   "cell_type": "code",
   "execution_count": 29,
   "id": "d732fd54-c776-49c5-b5a2-467ea92341cd",
   "metadata": {},
   "outputs": [],
   "source": [
    "# pprint.pprint(datasets_fsc147_debug)"
   ]
  },
  {
   "cell_type": "code",
   "execution_count": 28,
   "id": "af27a7d3-b5b1-49b1-844b-184df99b5a67",
   "metadata": {},
   "outputs": [],
   "source": [
    "# pprint.pprint(datasets_fsc147_exemplar_debug)"
   ]
  },
  {
   "cell_type": "code",
   "execution_count": 27,
   "id": "a18a15f8-d945-4d30-83af-e9bb2069adda",
   "metadata": {},
   "outputs": [],
   "source": [
    "# pprint.pprint(datasets_mixed_odvg)"
   ]
  },
  {
   "cell_type": "code",
   "execution_count": 26,
   "id": "95404809-85b9-4e08-9297-79b3a57d6ffc",
   "metadata": {},
   "outputs": [],
   "source": [
    "# pprint.pprint(datasets_od_example)"
   ]
  },
  {
   "cell_type": "code",
   "execution_count": 25,
   "id": "ce6db4fd-b439-4405-9e19-b76bf7257d2e",
   "metadata": {},
   "outputs": [],
   "source": [
    "# pprint.pprint(datasets_vg_example)"
   ]
  },
  {
   "cell_type": "code",
   "execution_count": null,
   "id": "5ccc4daf-f4c6-4f52-a70d-4feff5264812",
   "metadata": {},
   "outputs": [],
   "source": [
    "# instances_val2017\n",
    "# Error"
   ]
  },
  {
   "cell_type": "code",
   "execution_count": 7,
   "id": "bc5a3cea-0475-4814-9d7d-f2a92b7be26d",
   "metadata": {},
   "outputs": [
    {
     "name": "stdout",
     "output_type": "stream",
     "text": [
      "File `datasets_fsc147_test.json` berhasil diperbarui dan disimpan sebagai `/home/renaldy_fredyan/PhDResearch/CountGD/original-CountGD/config/datasets_fsc147_test_updated.json`.\n"
     ]
    }
   ],
   "source": [
    "import json\n",
    "\n",
    "# Path file JSON\n",
    "test_file_path = \"/home/renaldy_fredyan/PhDResearch/CountGD/original-CountGD/config/datasets_fsc147_test.json\"\n",
    "val_file_path = \"/home/renaldy_fredyan/PhDResearch/CountGD/original-CountGD/config/datasets_fsc147_val.json\"\n",
    "output_file_path = \"/home/renaldy_fredyan/PhDResearch/CountGD/original-CountGD/config/datasets_fsc147_test_updated.json\"\n",
    "\n",
    "# Membaca file `datasets_fsc147_val.json`\n",
    "with open(val_file_path, 'r') as val_file:\n",
    "    val_data = json.load(val_file)\n",
    "\n",
    "# Membaca file `datasets_fsc147_test.json`\n",
    "with open(test_file_path, 'r') as test_file:\n",
    "    test_data = json.load(test_file)\n",
    "\n",
    "# Mengubah bagian `root` dari test_data agar sesuai dengan val_data\n",
    "if \"train\" in val_data and \"train\" in test_data:\n",
    "    test_data[\"train\"][0][\"root\"] = val_data[\"train\"][0][\"root\"]\n",
    "if \"val\" in val_data and \"val\" in test_data:\n",
    "    test_data[\"val\"][0][\"root\"] = val_data[\"val\"][0][\"root\"]\n",
    "\n",
    "# Menyimpan file hasil perubahan ke file baru\n",
    "with open(output_file_path, 'w') as output_file:\n",
    "    json.dump(test_data, output_file, indent=2)\n",
    "\n",
    "print(f\"File `datasets_fsc147_test.json` berhasil diperbarui dan disimpan sebagai `{output_file_path}`.\")\n"
   ]
  },
  {
   "cell_type": "code",
   "execution_count": 1,
   "id": "c97f9de9-c020-4842-86c4-7df439d1528a",
   "metadata": {},
   "outputs": [
    {
     "name": "stdout",
     "output_type": "stream",
     "text": [
      "Total images: 3\n"
     ]
    }
   ],
   "source": [
    "import json\n",
    "\n",
    "with open(\"/home/renaldy_fredyan//PhDResearch/CountGD/Reproduced_CountGD/data/fsc147_gdino/fsc147_coco/coco_val_exemplars.json\", \"r\") as f:\n",
    "    data = json.load(f)\n",
    "    print(f\"Total images: {len(data)}\")\n"
   ]
  },
  {
   "cell_type": "code",
   "execution_count": 3,
   "id": "339b039e-6a58-4ccf-a695-10c69ec0c7b3",
   "metadata": {},
   "outputs": [
    {
     "name": "stdout",
     "output_type": "stream",
     "text": [
      "Total images: 3\n"
     ]
    }
   ],
   "source": [
    "import json\n",
    "\n",
    "with open(\"/home/renaldy_fredyan//PhDResearch/CountGD/original-CountGD/data/fsc147_gdino/fsc147_coco/coco_val_exemplars.json\", \"r\") as f:\n",
    "    data = json.load(f)\n",
    "    print(f\"Total images: {len(data)}\")\n"
   ]
  },
  {
   "cell_type": "code",
   "execution_count": 4,
   "id": "b6932f16-4d80-4f30-871e-71f9d911daa8",
   "metadata": {},
   "outputs": [
    {
     "name": "stdout",
     "output_type": "stream",
     "text": [
      "Hash File 1: 0da022fc8ca91690a0744289ba47fa6d\n",
      "Hash File 2: 0da022fc8ca91690a0744289ba47fa6d\n",
      "Files are identical: True\n"
     ]
    }
   ],
   "source": [
    "import json\n",
    "import hashlib\n",
    "\n",
    "def hash_file(file_path):\n",
    "    with open(file_path, 'r') as f:\n",
    "        data = json.load(f)\n",
    "    return hashlib.md5(json.dumps(data, sort_keys=True).encode()).hexdigest()\n",
    "\n",
    "file1 = \"/home/renaldy_fredyan/PhDResearch/CountGD/Reproduced_CountGD/data/fsc147_gdino/fsc147_coco/coco_val_exemplars.json\"\n",
    "file2 = \"/home/renaldy_fredyan/PhDResearch/CountGD/original-CountGD/data/fsc147_gdino/fsc147_coco/coco_val_exemplars.json\"\n",
    "\n",
    "hash1 = hash_file(file1)\n",
    "hash2 = hash_file(file2)\n",
    "\n",
    "print(\"Hash File 1:\", hash1)\n",
    "print(\"Hash File 2:\", hash2)\n",
    "print(\"Files are identical:\", hash1 == hash2)\n"
   ]
  },
  {
   "cell_type": "code",
   "execution_count": 6,
   "id": "3652b6b7-9973-4c4b-8986-f6b080734d8c",
   "metadata": {},
   "outputs": [
    {
     "name": "stdout",
     "output_type": "stream",
     "text": [
      "File 1 length: 25437897\n",
      "File 2 length: 25437897\n",
      "Lengths are identical: True\n"
     ]
    }
   ],
   "source": [
    "file1 = \"/home/renaldy_fredyan/PhDResearch/CountGD/Reproduced_CountGD/data/fsc147_gdino/fsc147_coco/coco_val_exemplars.json\"\n",
    "file2 = \"/home/renaldy_fredyan/PhDResearch/CountGD/original-CountGD/data/fsc147_gdino/fsc147_coco/coco_val_exemplars.json\"\n",
    "\n",
    "\n",
    "with open(file1, 'r') as f1, open(file2, 'r') as f2:\n",
    "    len1 = sum(len(line) for line in f1)\n",
    "    len2 = sum(len(line) for line in f2)\n",
    "\n",
    "print(\"File 1 length:\", len1)\n",
    "print(\"File 2 length:\", len2)\n",
    "print(\"Lengths are identical:\", len1 == len2)\n"
   ]
  },
  {
   "cell_type": "code",
   "execution_count": 5,
   "id": "dfb6b577-6c55-43a6-968d-ec8c95141456",
   "metadata": {},
   "outputs": [
    {
     "name": "stdout",
     "output_type": "stream",
     "text": [
      "Hash File 1: 1492bfdd161ac1de471d0aafb32b174d\n",
      "Hash File 2: 1cacb33702f8f85fea2bd6834ce1fe6f\n",
      "Files are identical: False\n"
     ]
    }
   ],
   "source": [
    "import hashlib\n",
    "\n",
    "def hash_binary_file(file_path):\n",
    "    with open(file_path, 'rb') as f:\n",
    "        return hashlib.md5(f.read()).hexdigest()\n",
    "\n",
    "file1 = \"/home/renaldy_fredyan/PhDResearch/CountGD/original-CountGD/checkpoints/checkpoint_fsc147_best.pth\"\n",
    "file2 = \"/home/renaldy_fredyan/PhDResearch/CountGD/Reproduced_CountGD/gdino_train/checkpoint_best_regular.pth\"\n",
    "\n",
    "hash1 = hash_binary_file(file1)\n",
    "hash2 = hash_binary_file(file2)\n",
    "\n",
    "print(\"Hash File 1:\", hash1)\n",
    "print(\"Hash File 2:\", hash2)\n",
    "print(\"Files are identical:\", hash1 == hash2)\n"
   ]
  }
 ],
 "metadata": {
  "kernelspec": {
   "display_name": "Python 3 (ipykernel)",
   "language": "python",
   "name": "python3"
  },
  "language_info": {
   "codemirror_mode": {
    "name": "ipython",
    "version": 3
   },
   "file_extension": ".py",
   "mimetype": "text/x-python",
   "name": "python",
   "nbconvert_exporter": "python",
   "pygments_lexer": "ipython3",
   "version": "3.9.19"
  }
 },
 "nbformat": 4,
 "nbformat_minor": 5
}
