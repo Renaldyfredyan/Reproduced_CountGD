{
 "cells": [
  {
   "cell_type": "code",
   "execution_count": 4,
   "id": "6448b8f6-29c4-4982-abe1-b0d902caa5d4",
   "metadata": {},
   "outputs": [
    {
     "name": "stdout",
     "output_type": "stream",
     "text": [
      "Backup disimpan di: /home/renaldy_fredyan/PhDResearch/CountGD/my_notebook_backup.ipynb\n",
      "Notebook berhasil diperbarui. Cell bermasalah dihapus.\n"
     ]
    }
   ],
   "source": [
    "import json\n",
    "\n",
    "# Path ke file notebook\n",
    "file_path = \"/home/renaldy_fredyan/PhDResearch/CountGD/Explore.ipynb\"\n",
    "backup_path = \"/home/renaldy_fredyan/PhDResearch/CountGD/my_notebook_backup.ipynb\"\n",
    "\n",
    "# Muat file .ipynb\n",
    "with open(file_path, 'r') as f:\n",
    "    notebook = json.load(f)\n",
    "\n",
    "# Backup file asli sebelum mengedit\n",
    "with open(backup_path, 'w') as f:\n",
    "    json.dump(notebook, f, indent=2)\n",
    "\n",
    "print(\"Backup disimpan di:\", backup_path)\n",
    "\n",
    "# Hapus cell bermasalah (misalnya berdasarkan output besar)\n",
    "new_cells = []\n",
    "for cell in notebook['cells']:\n",
    "    if 'outputs' in cell:\n",
    "        # Periksa jika output cell terlalu besar\n",
    "        total_output_size = sum(len(str(output.get('text', ''))) for output in cell['outputs'])\n",
    "        if total_output_size > 1000000:  # Misalnya, jika lebih besar dari 1MB\n",
    "            print(\"Menghapus cell dengan output besar.\")\n",
    "            continue\n",
    "    new_cells.append(cell)\n",
    "\n",
    "# Perbarui cells di notebook\n",
    "notebook['cells'] = new_cells\n",
    "\n",
    "# Simpan kembali file .ipynb\n",
    "with open(file_path, 'w') as f:\n",
    "    json.dump(notebook, f, indent=2)\n",
    "\n",
    "print(\"Notebook berhasil diperbarui. Cell bermasalah dihapus.\")\n"
   ]
  },
  {
   "cell_type": "code",
   "execution_count": 1,
   "id": "7450aee7-8cce-4de6-a176-e20e9dbfb1ce",
   "metadata": {},
   "outputs": [
    {
     "name": "stdout",
     "output_type": "stream",
     "text": [
      "/home/renaldy_fredyan/PhDResearch/CountGD\n"
     ]
    }
   ],
   "source": [
    "!pwd"
   ]
  }
 ],
 "metadata": {
  "kernelspec": {
   "display_name": "Python 3 (ipykernel)",
   "language": "python",
   "name": "python3"
  },
  "language_info": {
   "codemirror_mode": {
    "name": "ipython",
    "version": 3
   },
   "file_extension": ".py",
   "mimetype": "text/x-python",
   "name": "python",
   "nbconvert_exporter": "python",
   "pygments_lexer": "ipython3",
   "version": "3.9.19"
  }
 },
 "nbformat": 4,
 "nbformat_minor": 5
}
